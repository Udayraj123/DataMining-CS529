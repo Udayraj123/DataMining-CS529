{
 "cells": [
  {
   "cell_type": "code",
   "execution_count": 1,
   "metadata": {},
   "outputs": [],
   "source": [
    "import numpy as np\n",
    "import networkx as nx\n",
    "from scipy import stats\n",
    "import matplotlib.pyplot as plt\n",
    "%matplotlib inline\n",
    "plt.rcParams['figure.figsize'] = 10, 6\n",
    "subSize=40"
   ]
  },
  {
   "cell_type": "code",
   "execution_count": 27,
   "metadata": {},
   "outputs": [],
   "source": [
    "def getDegrees(G):\n",
    "    # sum of in and out degrees by default. use in_degree for specific\n",
    "    return list(nx.degree(G))\n",
    "\n",
    "def compareDirect(a,b,size=10):    \n",
    "    print(\"Calculated :\\t\",a[:size],\"...\")\n",
    "    print(\"\")\n",
    "    print(\"Expected :\\t\",b[:size],\"...\")    \n",
    "    print(\"\")\n",
    "    diffs=[ abs(a-b) for a,b in zip(a,b)]\n",
    "    print(\"Absolute Diffs: \",diffs[:size],\"...\" if size<len(a) else \"\")\n",
    "    print(\"\")\n",
    "    print(\"Sum of absolute diffs: \",sum(diffs))\n",
    "    print(\"\")\n",
    "    ratios=[ a/b if b else '0' for a,b in zip(a,b)]\n",
    "    print(\"Ratios: \",ratios)\n",
    "    print(stats.spearmanr(a,b))\n",
    "    \n",
    "    \n",
    "    \n",
    "def compare(a,b,size=10):\n",
    "    a=[x[1] for x in a]\n",
    "    b=[x[1] for x in b]\n",
    "    compareDirect(a,b,size)"
   ]
  },
  {
   "cell_type": "code",
   "execution_count": 3,
   "metadata": {},
   "outputs": [
    {
     "name": "stdout",
     "output_type": "stream",
     "text": [
      "Originally: 116408 nodes\n",
      "Taken: 40 random nodes from 40 highest degree nodes\n"
     ]
    }
   ],
   "source": [
    "diG=nx.read_weighted_edgelist(\"higgs-mention_network.edgelist\",create_using=nx.DiGraph())#read_edgelist(\"com-dblp.ungraph.txt\")\n",
    "N=diG.number_of_nodes()\n",
    "print(\"Originally: \"+str(N)+\" nodes\")\n",
    "\n",
    "degrees=sorted(getDegrees(diG),key=lambda x:x[1])\n",
    "subG=diG.subgraph([x[0] for x in degrees[N-subSize:]])\n",
    "# subG=diG.subgraph(np.random.choice(list(subG.nodes),size=subSize, replace=False))\n",
    "subGdegrees=getDegrees(subG)\n",
    "subN=subG.number_of_nodes()\n",
    "print(\"Taken: \"+str(subN)+\" random nodes from \"+str(subSize)+\" highest degree nodes\")"
   ]
  },
  {
   "cell_type": "code",
   "execution_count": 4,
   "metadata": {},
   "outputs": [
    {
     "data": {
      "image/png": "[encoded data removed]",
      "text/plain": [
       "<Figure size 432x288 with 1 Axes>"
      ]
     },
     "metadata": {},
     "output_type": "display_data"
    }
   ],
   "source": [
    "G=subG\n",
    "if(subN<200):    \n",
    "    nx.draw(G)\n",
    "    plt.show()"
   ]
  },
  {
   "cell_type": "code",
   "execution_count": 5,
   "metadata": {},
   "outputs": [
    {
     "name": "stdout",
     "output_type": "stream",
     "text": [
      "Calculated :\t [0.05128205128205128, 0.0, 0.02564102564102564, 0.02564102564102564, 0.15384615384615385, 0.05128205128205128, 0.02564102564102564, 0.0, 0.1794871794871795, 0.0] ...\n",
      "\n",
      "Expected :\t [0.05128205128205128, 0.0, 0.02564102564102564, 0.02564102564102564, 0.15384615384615385, 0.05128205128205128, 0.02564102564102564, 0.0, 0.1794871794871795, 0.0] ...\n",
      "\n",
      "Absolute Diffs:  [0.0, 0.0, 0.0, 0.0, 0.0, 0.0, 0.0, 0.0, 0.0, 0.0] ...\n",
      "\n",
      "Sum of absolute diffs:  2.7755575615628914e-17\n",
      "\n",
      "Ratios:  [1.0, '0', 1.0, 1.0, 1.0, 1.0, 1.0, '0', 1.0, '0', 1.0, '0', '0', 1.0, 1.0, '0', '0', 1.0, 1.0, '0', 1.0, 1.0, 1.0, 1.0000000000000002, 1.0, 1.0, 1.0, 1.0, 1.0, 1.0, 1.0, 1.0, '0', '0', '0', 1.0, 1.0, 1.0, 1.0, 1.0]\n"
     ]
    }
   ],
   "source": [
    "\"\"\"\n",
    "Degree Centrality = degree(n) = In undirected graph it is no of edges \n",
    "\"\"\"\n",
    "subNminus=subN-1\n",
    "degreeCentrality=[(x[0],x[1]/subNminus) for x in subGdegrees]\n",
    "compare(degreeCentrality,list(nx.degree_centrality(subG).items()))"
   ]
  },
  {
   "cell_type": "code",
   "execution_count": 6,
   "metadata": {},
   "outputs": [],
   "source": [
    "# Get all pairs shortest path lengths\n",
    "all_spls=nx.floyd_warshall(subG) #floyd_warshall gives inf too"
   ]
  },
  {
   "cell_type": "code",
   "execution_count": 7,
   "metadata": {},
   "outputs": [
    {
     "name": "stdout",
     "output_type": "stream",
     "text": [
      "Calculated :\t [0.0, 0.0, 0.0, 0.0, 0.12217194570135748, 0.0, 0.04013377926421405, 0.0, 0.10683760683760683, 0.0] ...\n",
      "\n",
      "Expected :\t [0.0, 0.0, 0.0, 0.0, 0.12217194570135748, 0.0, 0.04013377926421405, 0.0, 0.10683760683760683, 0.0] ...\n",
      "\n",
      "Absolute Diffs:  [0.0, 0.0, 0.0, 0.0, 0.0, 0.0, 0.0, 0.0, 0.0, 0.0] ...\n",
      "\n",
      "Sum of absolute diffs:  0.0\n",
      "\n",
      "Ratios:  ['0', '0', '0', '0', 1.0, '0', 1.0, '0', 1.0, '0', 1.0, '0', '0', 1.0, 1.0, '0', '0', '0', 1.0, '0', 1.0, 1.0, '0', '0', 1.0, '0', 1.0, 1.0, 1.0, '0', 1.0, '0', '0', '0', '0', 1.0, 1.0, '0', 1.0, 1.0]\n"
     ]
    }
   ],
   "source": [
    "\"\"\"\n",
    "Closeness centrality -  is the average length of the shortest path between the node and all other nodes in the graph i.e.\n",
    "in the connected part of graph containing the node. If the graph is not completely connected, \n",
    "this algorithm computes the closeness centrality for each connected part separately.\n",
    ">> Normalized again with a factor n-1/N-1\n",
    "\"\"\"\n",
    "\n",
    "closeness=[]\n",
    "for n,lengths in all_spls.items():\n",
    "    component=[x for x in lengths.values()  if x!=np.inf ]\n",
    "    sumDists=sum(component)\n",
    "    lminus=len(component)-1\n",
    "    n_fac=lminus/subNminus\n",
    "    closeness.append( (n,(lminus / sumDists * n_fac) if(sumDists!=0) else 0.0) )\n",
    "    \n",
    "#From the tool\n",
    "ideal=nx.closeness_centrality(subG,distance='weight') #consider the weights\n",
    "\n",
    "compare(closeness,list(ideal.items()))"
   ]
  },
  {
   "cell_type": "code",
   "execution_count": 8,
   "metadata": {},
   "outputs": [
    {
     "name": "stdout",
     "output_type": "stream",
     "text": [
      "Calculated :\t [0.0, 0.0, 0.0, 0.0, 4.5, 0.0, 0.0, 0.0, 0.0, 0.0] ...\n",
      "\n",
      "Expected :\t [0.0, 0.0, 0.0, 0.0, 4.5, 0.0, 0.0, 0.0, 0.0, 0.0] ...\n",
      "\n",
      "Absolute Diffs:  [0.0, 0.0, 0.0, 0.0, 0.0, 0.0, 0.0, 0.0, 0.0, 0.0] ...\n",
      "\n",
      "Sum of absolute diffs:  0.0\n",
      "\n",
      "Ratios:  ['0', '0', '0', '0', 1.0, '0', '0', '0', '0', '0', 1.0, '0', '0', '0', '0', '0', '0', '0', '0', '0', 1.0, 1.0, '0', '0', 1.0, '0', '0', 1.0, '0', '0', '0', '0', '0', '0', '0', '0', 1.0, '0', 1.0, 1.0]\n"
     ]
    }
   ],
   "source": [
    "\"\"\"\n",
    "Betweenness centrality computed as follows:\n",
    "1. For each pair of vertices (s,t), compute the shortest paths between them. <-- spaths\n",
    "2. For each pair of vertices (s,t), determine the fraction which pass through the vertex v. <-- iterating on paths\n",
    "3. Sum this fraction over all pairs of vertices (s,t). <-- sum while iterating\n",
    "\n",
    "Betweenness(v) = no of SPs passing thru v/Total no of SPs\n",
    "\"\"\"\n",
    "from itertools import count\n",
    "from heapq import heappush, heappop\n",
    "\n",
    "def accumulate_from_S(betweenness, S, P, sigma, s):\n",
    "    delta = dict.fromkeys(S, 0)\n",
    "    while S:\n",
    "        w = S.pop()\n",
    "        coeff = (1.0 + delta[w]) / sigma[w]\n",
    "        for v in P[w]:\n",
    "            delta[v] += sigma[v] * coeff # count paths\n",
    "        if w != s:\n",
    "            betweenness[w] += delta[w]\n",
    "    return betweenness\n",
    "\n",
    "def single_source_dijkstra_multi_sps(G, s, weight='weight'):\n",
    "    S = []\n",
    "    P = {}\n",
    "    for v in G:\n",
    "        P[v] = []\n",
    "    sigma = dict.fromkeys(G, 0.0)    # sigma[v]=0 for v in G\n",
    "    D = {}\n",
    "    sigma[s] = 1.0\n",
    "    push = heappush\n",
    "    pop = heappop\n",
    "    seen = {s: 0}\n",
    "    c = count()\n",
    "    Q = []   # use Q as heap with (distance,node id) tuples\n",
    "    push(Q, (0, next(c), s, s))\n",
    "    while Q:\n",
    "        (dist, _, pred, v) = pop(Q)\n",
    "        if v in D:\n",
    "            continue  # already searched this node.\n",
    "        sigma[v] += sigma[pred]  # count paths\n",
    "        S.append(v)\n",
    "        D[v] = dist\n",
    "        for w, edgedata in G[v].items():\n",
    "            vw_dist = dist + edgedata.get(weight, 1)\n",
    "            if w not in D and (w not in seen or vw_dist < seen[w]):\n",
    "                seen[w] = vw_dist\n",
    "                push(Q, (vw_dist, next(c), v, w))\n",
    "                sigma[w] = 0.0\n",
    "                P[w] = [v]\n",
    "            \n",
    "            # \"\"\" Multiple paths handled here\"\"\"\n",
    "            elif vw_dist == seen[w]:  # handle equal paths\n",
    "                sigma[w] += sigma[v]\n",
    "                P[w].append(v)\n",
    "                \n",
    "    return S, P, sigma\n",
    "                \n",
    "betweenness = dict.fromkeys(subG, 0.0)  \n",
    "for s in subG:\n",
    "    S, P, sigma = single_source_dijkstra_multi_sps(subG, s, 'weight')\n",
    "    betweenness = accumulate_from_S(betweenness,S,P,sigma,s)\n",
    "\n",
    "compare(list(betweenness.items()),list(nx.betweenness_centrality(subG,normalized=False,weight='weight').items()))"
   ]
  },
  {
   "cell_type": "code",
   "execution_count": 9,
   "metadata": {},
   "outputs": [],
   "source": [
    "# G=nx.path_graph(4)\n",
    "# eigenvector_centrailty=power_iteration(G,num_simulations=30)\n",
    "\n",
    "# compareDirect(eigenvector_centrailty,list(nx.eigenvector_centrality(G,weight='weight').values()))#,size=subSize)"
   ]
  },
  {
   "cell_type": "code",
   "execution_count": 10,
   "metadata": {},
   "outputs": [
    {
     "name": "stdout",
     "output_type": "stream",
     "text": [
      "left iters:  14\n",
      "Calculated :\t [7.33364046e-28 0.00000000e+00 0.00000000e+00 0.00000000e+00\n",
      " 1.39522125e-03 2.83640923e-28 4.04817562e-03 0.00000000e+00\n",
      " 1.71252706e-04 0.00000000e+00] ...\n",
      "\n",
      "Expected :\t [1.819502202017114e-15, 8.884288095786689e-19, 1.32683910454842e-07, 1.32683910454842e-07, 2.271236148432772e-06, 1.819502202017114e-15, 8.884288095786689e-19, 8.884288095786689e-19, 1.5922069254483314e-06, 8.884288095786689e-19] ...\n",
      "\n",
      "Absolute Diffs:  [1.8195022020163806e-15, 8.884288095786689e-19, 1.32683910454842e-07, 1.32683910454842e-07, 0.0013929500141603877, 1.8195022020168303e-15, 0.004048175615635636, 8.884288095786689e-19, 0.0001696604986571862, 8.884288095786689e-19] ...\n",
      "\n",
      "Sum of absolute diffs:  2.06193207777055\n",
      "\n",
      "Ratios:  [4.030575204950179e-13, 0.0, 0.0, 0.0, 614.3003893591467, 1.5588929892970996e-13, 4556555991870025.0, 0.0, 107.55681491236665, 0.0, 3.5166719931920554, 0.0, 0.0, 125857709.93883216, 162671029817522.34, 0.0, 0.0, 0.0, 3.368882833454403e-07, 0.0, 18159.051417249997, 16120356.213073542, 0.00040682464202014356, 3.8144920231189906e-27, 0.48194889309082894, 4.899992306356858e-13, 158798.9547858863, 2.955352383752973, 29553115.808490537, 3.185091729770811e-13, 1.0107193315253161e-06, 0.0, 0.0, 0.0, 0.0, 4556555991870025.0, 26959.579959015275, 0.0, 116345.31754800155, 0.16590483377705764]\n"
     ]
    }
   ],
   "source": [
    "\"\"\"\n",
    "Eignevector Centrality\n",
    "Concept: connections to high-scoring nodes contribute more to the score of the node in question\n",
    "         than equal connections to low-scoring nodes.\n",
    "The Eigenvector corresponding to largest eigenvalue gives the desired centrality\n",
    "For this we use the power method\n",
    "It is an eigenvalue algorithm: given a diagonalizable matrix A, the algorithm will give greatest(in absolute value) eigenvalue of A,\n",
    "and a nonzero vector v, the corresponding eigenvector. The algorithm is also known as the Von Mises iteration.[1]\n",
    "\n",
    "Power iteration is a very simple algorithm, but it may converge slowly. It is suitable for large sparse matrices\n",
    "\"\"\"\n",
    "\n",
    "\n",
    "def power_iteration(G, num_simulations):\n",
    "    A=nx.to_numpy_matrix(G);\n",
    "    A=np.array(A)\n",
    "    EPSILON = np.longdouble(1e-9)\n",
    "    b_k = np.random.rand(A.shape[1])\n",
    "    for _ in range(num_simulations):\n",
    "#     while 1:\n",
    "        # calculate the matrix-by-vector product Ab\n",
    "        b_k1 = np.dot(A, b_k)\n",
    "        # calculate the norm\n",
    "        b_k1_norm = np.linalg.norm(b_k1)        \n",
    "        b_k_next = b_k1 / b_k1_norm\n",
    "        if(np.sum(abs(b_k_next-b_k))<EPSILON*len(b_k)):\n",
    "            break\n",
    "        b_k=b_k_next\n",
    "        num_simulations-=1;\n",
    "    print(\"left iters: \",num_simulations)\n",
    "    return b_k_next\n",
    "\n",
    "eigenvector_centrailty=power_iteration(subG,num_simulations=30)\n",
    "\n",
    "compareDirect(eigenvector_centrailty,list(nx.eigenvector_centrality(subG,weight='weight').values()))#,size=subSize)"
   ]
  },
  {
   "cell_type": "code",
   "execution_count": 25,
   "metadata": {},
   "outputs": [],
   "source": [
    "\"\"\"\n",
    "Clustering Coefficient \n",
    "The global clustering coefficient is the number of closed triplets (or 3 x triangles) \n",
    "over the total number of triplets (both open and closed). \n",
    "\n",
    "The local clustering coefficient is the proportion of links between the vertices \n",
    "within its neighbourhood divided by the number of links that could possibly exist between them.\n",
    "\n",
    "Average clustering coefficient is mean of local clusterings\n",
    "\"\"\"\n",
    "unsubG=nx.to_undirected(subG)\n",
    "clustering_coeffs={}\n",
    "for n in unsubG:\n",
    "    nghs = [e[1] for e in unsubG.edges(n)]\n",
    "    d=len(nghs)\n",
    "    e=subG.subgraph(nghs).number_of_edges()    \n",
    "    # for directed..\n",
    "    clustering_coeffs[n]= 1*e/(d*(d-1)) if d>1 else 0.0;\n"
   ]
  },
  {
   "cell_type": "code",
   "execution_count": 26,
   "metadata": {},
   "outputs": [
    {
     "name": "stdout",
     "output_type": "stream",
     "text": [
      "Calculated :\t [0.0, 0.0, 0.0, 0.0, 0.6666666666666666, 0.0, 0.0, 0.0, 0.26666666666666666, 0.0] ...\n",
      "\n",
      "Expected :\t [0, 0, 0, 0, 0, 0, 0, 0, 0, 0] ...\n",
      "\n",
      "Absolute Diffs:  [0.0, 0.0, 0.0, 0.0, 0.6666666666666666, 0.0, 0.0, 0.0, 0.26666666666666666, 0.0] ...\n",
      "\n",
      "Sum of absolute diffs:  5.464801864801864\n",
      "\n",
      "Ratios:  ['0', '0', '0', '0', '0', '0', '0', '0', '0', '0', 1.0, '0', '0', 2.0, '0', '0', '0', '0', '0', '0', '0', 0.7777777777777777, '0', 1.0125000000000002, 1.2, '0', 1.5, 0.8653846153846153, 0.9074074074074074, '0', '0', 2.0, '0', '0', '0', '0', 3.0, '0', 1.8472222222222223, 1.1483516483516483]\n"
     ]
    }
   ],
   "source": [
    "compareDirect(list(clustering_coeffs.values()),list(nx.clustering(unsubG).values()))"
   ]
  },
  {
   "cell_type": "code",
   "execution_count": 46,
   "metadata": {},
   "outputs": [],
   "source": [
    "\n",
    "# N=3\n",
    "# G=nx.grid_2d_graph(N,N)\n",
    "# pos = dict( (n, n) for n in G.nodes() )\n",
    "# labels = dict( ((i, j), i + (N-1-j) * N ) for i, j in G.nodes() )\n",
    "# nx.relabel_nodes(G,labels,False)\n",
    "# inds=labels.keys()\n",
    "# vals=labels.values()\n",
    "# inds=sorted(inds)\n",
    "# vals=sorted(vals)\n",
    "# pos2=dict(zip(vals,inds))\n",
    "# nx.draw_networkx(G, pos=pos2, with_labels=False, node_size = 30)\n",
    "# plt.show()"
   ]
  },
  {
   "cell_type": "code",
   "execution_count": null,
   "metadata": {},
   "outputs": [],
   "source": []
  }
 ],
 "metadata": {
  "kernelspec": {
   "display_name": "Python 3",
   "language": "python",
   "name": "python3"
  },
  "language_info": {
   "codemirror_mode": {
    "name": "ipython",
    "version": 3
   },
   "file_extension": ".py",
   "mimetype": "text/x-python",
   "name": "python",
   "nbconvert_exporter": "python",
   "pygments_lexer": "ipython3",
   "version": "3.7.0b1"
  }
 },
 "nbformat": 4,
 "nbformat_minor": 2
}
