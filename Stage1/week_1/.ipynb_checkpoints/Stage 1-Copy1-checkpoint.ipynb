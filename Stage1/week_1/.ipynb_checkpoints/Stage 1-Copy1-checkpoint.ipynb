{
 "cells": [
  {
   "cell_type": "code",
   "execution_count": 1,
   "metadata": {},
   "outputs": [],
   "source": [
    "import numpy as np\n",
    "import networkx as nx\n",
    "from scipy import stats\n",
    "import matplotlib.pyplot as plt\n",
    "%matplotlib inline\n",
    "plt.rcParams['figure.figsize'] = 10, 6\n",
    "subSize=400"
   ]
  },
  {
   "cell_type": "code",
   "execution_count": 33,
   "metadata": {},
   "outputs": [],
   "source": [
    "def getDegrees(G):\n",
    "    # sum of in and out degrees by default. use in_degree for specific\n",
    "    return list(nx.degree(G))\n",
    "\n",
    "def compareDirect(a,b):    \n",
    "    print(\"Calculated :\\t\",a)\n",
    "    print(\"\\n\")\n",
    "    print(\"Expected :\\t\",b)    \n",
    "    print(\"\\n\")\n",
    "    print(\"Errors: \",[ (a-b) for a,b in zip(a,b)])\n",
    "    \n",
    "def compare(a,b):\n",
    "    a=[x[1] for x in a]\n",
    "    b=[x[1] for x in b]\n",
    "    compareDirect(a,b)"
   ]
  },
  {
   "cell_type": "code",
   "execution_count": 53,
   "metadata": {},
   "outputs": [
    {
     "name": "stdout",
     "output_type": "stream",
     "text": [
      "Originally: 116408 nodes\n",
      "Taken: 40 random nodes from 400 highest degree nodes\n"
     ]
    }
   ],
   "source": [
    "diG=nx.read_weighted_edgelist(\"higgs-mention_network.edgelist\",create_using=nx.DiGraph())#read_edgelist(\"com-dblp.ungraph.txt\")\n",
    "N=diG.number_of_nodes()\n",
    "print(\"Originally: \"+str(N)+\" nodes\")\n",
    "\n",
    "degrees=sorted(getDegrees(diG),key=lambda x:x[1])\n",
    "subG=G.subgraph([x[0] for x in degrees[N-subSize:]])\n",
    "subG=G.subgraph(np.random.choice(list(subG.nodes),size=subSize//10, replace=False))\n",
    "subGdegrees=getDegrees(subG)\n",
    "subN=subG.number_of_nodes()\n",
    "print(\"Taken: \"+str(subN)+\" random nodes from \"+str(subSize)+\" highest degree nodes\")"
   ]
  },
  {
   "cell_type": "code",
   "execution_count": 54,
   "metadata": {},
   "outputs": [
    {
     "data": {
      "image/png": "[encoded data removed]",
      "text/plain": [
       "<Figure size 432x288 with 1 Axes>"
      ]
     },
     "metadata": {},
     "output_type": "display_data"
    }
   ],
   "source": [
    "G=subG\n",
    "nx.draw(G)\n",
    "plt.show()"
   ]
  },
  {
   "cell_type": "code",
   "execution_count": 55,
   "metadata": {},
   "outputs": [
    {
     "name": "stdout",
     "output_type": "stream",
     "text": [
      "Calculated :\t [0.0, 0.0, 0.0, 0.02564102564102564, 0.0, 0.05128205128205128, 0.0, 0.05128205128205128, 0.05128205128205128, 0.02564102564102564, 0.0, 0.02564102564102564, 0.1794871794871795, 0.0, 0.02564102564102564, 0.0, 0.07692307692307693, 0.05128205128205128, 0.10256410256410256, 0.0, 0.0, 0.05128205128205128, 0.0, 0.0, 0.0, 0.0, 0.0, 0.02564102564102564, 0.0, 0.10256410256410256, 0.0, 0.05128205128205128, 0.02564102564102564, 0.05128205128205128, 0.0, 0.05128205128205128, 0.0, 0.0, 0.0, 0.0]\n",
      "\n",
      "\n",
      "Expected :\t [0.0, 0.0, 0.0, 0.02564102564102564, 0.0, 0.05128205128205128, 0.0, 0.05128205128205128, 0.05128205128205128, 0.02564102564102564, 0.0, 0.02564102564102564, 0.1794871794871795, 0.0, 0.02564102564102564, 0.0, 0.07692307692307693, 0.05128205128205128, 0.10256410256410256, 0.0, 0.0, 0.05128205128205128, 0.0, 0.0, 0.0, 0.0, 0.0, 0.02564102564102564, 0.0, 0.10256410256410256, 0.0, 0.05128205128205128, 0.02564102564102564, 0.05128205128205128, 0.0, 0.05128205128205128, 0.0, 0.0, 0.0, 0.0]\n",
      "\n",
      "\n",
      "Errors:  [0.0, 0.0, 0.0, 0.0, 0.0, 0.0, 0.0, 0.0, 0.0, 0.0, 0.0, 0.0, 0.0, 0.0, 0.0, 0.0, 0.0, 0.0, 0.0, 0.0, 0.0, 0.0, 0.0, 0.0, 0.0, 0.0, 0.0, 0.0, 0.0, 0.0, 0.0, 0.0, 0.0, 0.0, 0.0, 0.0, 0.0, 0.0, 0.0, 0.0]\n"
     ]
    }
   ],
   "source": [
    "\"\"\"\n",
    "Degree Centrality = degree(n) = In undirected graph it is no of edges \n",
    "\"\"\"\n",
    "subNminus=subN-1\n",
    "totalD=sum([x[1] for x in subGdegrees])\n",
    "subGdegrees=[(x[0],x[1]/subNminus) for x in subGdegrees]\n",
    "compare(subGdegrees,list(nx.degree_centrality(subG).items()))"
   ]
  },
  {
   "cell_type": "code",
   "execution_count": 72,
   "metadata": {},
   "outputs": [
    {
     "name": "stdout",
     "output_type": "stream",
     "text": [
      "Calculated :\t [0.0, 0.0, 0.0, 0.041880341880341884, 0.0, 0.0, 0.0, 0.0, 0.0, 0.04487179487179487, 0.0, 0.02564102564102564, 0.0698005698005698, 0.0, 0.02564102564102564, 0.0, 0.041880341880341884, 0.0, 0.03695324283559578, 0.0, 0.0, 0.0, 0.0, 0.0, 0.0, 0.0, 0.0, 0.041880341880341884, 0.0, 0.05710955710955711, 0.0, 0.0, 0.03141025641025641, 0.0, 0.0, 0.0, 0.0, 0.0, 0.0, 0.0]\n",
      "\n",
      "\n",
      "Expected :\t [0.0, 0.0, 0.0, 0.08376068376068377, 0.0, 0.0, 0.0, 0.0, 0.0, 0.06612685560053981, 0.0, 0.02564102564102564, 0.1396011396011396, 0.0, 0.02564102564102564, 0.0, 0.08376068376068377, 0.0, 0.09664694280078895, 0.0, 0.0, 0.0, 0.0, 0.0, 0.0, 0.0, 0.0, 0.08376068376068377, 0.0, 0.09664694280078895, 0.0, 0.0, 0.06612685560053981, 0.0, 0.0, 0.0, 0.0, 0.0, 0.0, 0.0]\n",
      "\n",
      "\n",
      "Errors:  [0.0, 0.0, 0.0, -0.041880341880341884, 0.0, 0.0, 0.0, 0.0, 0.0, -0.02125506072874494, 0.0, 0.0, -0.0698005698005698, 0.0, 0.0, 0.0, -0.041880341880341884, 0.0, -0.05969369996519317, 0.0, 0.0, 0.0, 0.0, 0.0, 0.0, 0.0, 0.0, -0.041880341880341884, 0.0, -0.03953738569123184, 0.0, 0.0, -0.0347165991902834, 0.0, 0.0, 0.0, 0.0, 0.0, 0.0, 0.0]\n"
     ]
    }
   ],
   "source": [
    "\"\"\"\n",
    "Closeness centrality -  is the average length of the shortest path between the node and all other nodes in the graph i.e.\n",
    "in the connected part of graph containing the node. If the graph is not completely connected, \n",
    "this algorithm computes the closeness centrality for each connected part separately.\n",
    ">> Normalized again with a factor n-1/N-1\n",
    "\"\"\"\n",
    "all_sps=nx.floyd_warshall(subG) #floyd_warshall gives inf too\n",
    "closeness=[]\n",
    "for n,lengths in all_sps.items():\n",
    "    component=[x for x in lengths.values()  if x!=np.inf ]\n",
    "    sumDists=sum(component)\n",
    "    lminus=len(component)-1\n",
    "    n_fac=lminus/subNminus\n",
    "    closeness.append( (n,(lminus / sumDists * n_fac) if(sumDists!=0) else 0.0) )\n",
    "    \n",
    "compare(closeness,list(nx.closeness_centrality(subG).items()))"
   ]
  },
  {
   "cell_type": "code",
   "execution_count": 57,
   "metadata": {},
   "outputs": [
    {
     "name": "stdout",
     "output_type": "stream",
     "text": [
      "Calculated :\t [0, 0, 0, 0, 0, 0, 0, 0, 0, 0, 0, 0, 38, 0, 0, 0, 0, 0, 12, 0, 0, 0, 0, 0, 0, 0, 0, 0, 0, 12, 0, 0, 0, 0, 0, 0, 0, 0, 0, 0]\n",
      "\n",
      "\n",
      "Expected :\t [0.0, 0.0, 0.0, 0.0, 0.0, 0.0, 0.0, 0.0, 0.0, 0.0, 0.0, 0.0, 0.02564102564102564, 0.0, 0.0, 0.0, 0.0, 0.0, 0.008097165991902834, 0.0, 0.0, 0.0, 0.0, 0.0, 0.0, 0.0, 0.0, 0.0, 0.0, 0.008097165991902834, 0.0, 0.0, 0.0, 0.0, 0.0, 0.0, 0.0, 0.0, 0.0, 0.0]\n",
      "\n",
      "\n",
      "Errors:  [0.0, 0.0, 0.0, 0.0, 0.0, 0.0, 0.0, 0.0, 0.0, 0.0, 0.0, 0.0, 37.97435897435897, 0.0, 0.0, 0.0, 0.0, 0.0, 11.991902834008098, 0.0, 0.0, 0.0, 0.0, 0.0, 0.0, 0.0, 0.0, 0.0, 0.0, 11.991902834008098, 0.0, 0.0, 0.0, 0.0, 0.0, 0.0, 0.0, 0.0, 0.0, 0.0]\n"
     ]
    }
   ],
   "source": [
    "\"\"\"\n",
    "Betweenness centrality computed as follows:\n",
    "1. For each pair of vertices (s,t), compute the shortest paths between them. <-- spaths\n",
    "2. For each pair of vertices (s,t), determine the fraction which pass through the vertex v. <-- iterating on paths\n",
    "3. Sum this fraction over all pairs of vertices (s,t). <-- sum while iterating\n",
    "\n",
    "Betweenness(v) = no of SPs passing thru v/Total no of SPs\n",
    "\"\"\"\n",
    "def single_source_sps(G,source):\n",
    "    # Dijkstras\n",
    "    level=0                  # the current level\n",
    "    nextlevel={source:1}       # list of nodes to check at next level\n",
    "    paths={source:[source]}  # paths dictionary  (paths to key from source)    \n",
    "    while nextlevel:\n",
    "        thislevel=nextlevel\n",
    "        nextlevel={}\n",
    "        for v in thislevel:\n",
    "            for w in G[v]:\n",
    "                if w not in paths:\n",
    "                    paths[w]=paths[v]+[w]\n",
    "                    nextlevel[w]=1\n",
    "        level=level+1\n",
    "    return paths\n",
    "\n",
    "\n",
    "# Get 'passing thru' counts \n",
    "count_passing_sps = dict.fromkeys(subG, 0) #copy keys off G    \n",
    "spaths = {n: single_source_sps(subG, n) for n in subG} #nx.all_pairs_shortest_path(G)\n",
    "# Iterate in all shortest paths\n",
    "for source,paths in spaths.items():\n",
    "    for dest,path in paths.items():\n",
    "#         print(source,dest,path[1:-1])\n",
    "        for between_node in path[1:-1]: # ignore firs and last element (source != node != dest)\n",
    "            count_passing_sps[between_node] += 1 # this path passes through `node`\n",
    "\n",
    "# Since for each s,t there's only 1 sp\n",
    "betweeness=list(count_passing_sps.items()) # all zeroes\n",
    "    \n",
    "    \n",
    "compare(betweeness,list(nx.betweenness_centrality(subG).items()))"
   ]
  },
  {
   "cell_type": "code",
   "execution_count": 45,
   "metadata": {},
   "outputs": [],
   "source": [
    "\"\"\"\n",
    "Eignevector Centrality\n",
    "Concept: connections to high-scoring nodes contribute more to the score of the node in question\n",
    "         than equal connections to low-scoring nodes.\n",
    "        \n",
    "\"\"\""
   ]
  },
  {
   "cell_type": "code",
   "execution_count": 46,
   "metadata": {},
   "outputs": [],
   "source": [
    "\n",
    "# N=3\n",
    "# G=nx.grid_2d_graph(N,N)\n",
    "# pos = dict( (n, n) for n in G.nodes() )\n",
    "# labels = dict( ((i, j), i + (N-1-j) * N ) for i, j in G.nodes() )\n",
    "# nx.relabel_nodes(G,labels,False)\n",
    "# inds=labels.keys()\n",
    "# vals=labels.values()\n",
    "# inds=sorted(inds)\n",
    "# vals=sorted(vals)\n",
    "# pos2=dict(zip(vals,inds))\n",
    "# nx.draw_networkx(G, pos=pos2, with_labels=False, node_size = 30)\n",
    "# plt.show()"
   ]
  },
  {
   "cell_type": "code",
   "execution_count": null,
   "metadata": {},
   "outputs": [],
   "source": []
  }
 ],
 "metadata": {
  "kernelspec": {
   "display_name": "Python 3",
   "language": "python",
   "name": "python3"
  },
  "language_info": {
   "codemirror_mode": {
    "name": "ipython",
    "version": 3
   },
   "file_extension": ".py",
   "mimetype": "text/x-python",
   "name": "python",
   "nbconvert_exporter": "python",
   "pygments_lexer": "ipython3",
   "version": "3.7.0b1"
  }
 },
 "nbformat": 4,
 "nbformat_minor": 2
}
